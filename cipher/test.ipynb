{
 "cells": [
  {
   "cell_type": "code",
   "execution_count": 1,
   "metadata": {},
   "outputs": [
    {
     "name": "stdout",
     "output_type": "stream",
     "text": [
      "2\n"
     ]
    }
   ],
   "source": [
    "lst = [\"mango\", \"banana\", \"apple\"]\n",
    "\n",
    "x = lst.index(\"apple\")\n",
    "\n",
    "print(x)"
   ]
  },
  {
   "cell_type": "code",
   "execution_count": 3,
   "metadata": {},
   "outputs": [
    {
     "name": "stdout",
     "output_type": "stream",
     "text": [
      "The encoded text is nduq\n"
     ]
    }
   ],
   "source": [
    "alphabet = ['a', 'b', 'c', 'd', 'e', 'f', 'g', 'h', 'i', 'j', 'k', 'l', 'm', 'n', 'o', 'p',\n",
    "             'q', 'r', 's', 't', 'u', 'v', 'w', 'x', 'y', 'z']\n",
    "\n",
    "direction = input(\"Type 'encode' to encrypt, type 'decode' to decrypt:\\n\").lower()\n",
    "text = input(\"Type your message:\\n\").lower()\n",
    "shift = int(input(\"Type the shift number:\\n\"))\n",
    "\n",
    "def encrypt(plain_text, shift_amount):\n",
    "    cipher_text = \"\"\n",
    "    for letter in plain_text:\n",
    "        if letter in alphabet:\n",
    "            position = alphabet.index(letter)\n",
    "            new_position = (position + shift_amount) % len(alphabet)\n",
    "            new_letter = alphabet[new_position]\n",
    "            cipher_text += new_letter\n",
    "        else:\n",
    "            cipher_text += letter  # Preserve non-alphabetic characters\n",
    "    print(f\"The encoded text is {cipher_text}\")\n",
    "\n",
    "def decrypt(cipher_text, shift_amount):\n",
    "    plain_text = \"\"\n",
    "    for letter in cipher_text:\n",
    "        if letter in alphabet:\n",
    "            position = alphabet.index(letter)\n",
    "            new_position = (position - shift_amount) % len(alphabet)\n",
    "            plain_text += alphabet[new_position]\n",
    "        else:\n",
    "            plain_text += letter  # Preserve non-alphabetic characters\n",
    "    print(f\"The decoded text is {plain_text}\")\n",
    "\n",
    "if direction == \"encode\":\n",
    "    encrypt(plain_text=text, shift_amount=shift)\n",
    "elif direction == \"decode\":\n",
    "    decrypt(cipher_text=text, shift_amount=shift)\n",
    "else:\n",
    "    print(\"Not in condition, please try again\")"
   ]
  },
  {
   "cell_type": "code",
   "execution_count": 12,
   "metadata": {},
   "outputs": [
    {
     "data": {
      "text/plain": [
       "0"
      ]
     },
     "execution_count": 12,
     "metadata": {},
     "output_type": "execute_result"
    }
   ],
   "source": [
    "fruit = [\"Banana\", \"Apple\", \"orange\", \"peach\", \"clementine\", \"dragon fruit\"]\n",
    "\n",
    "fruit.index(\"Banana\")"
   ]
  },
  {
   "cell_type": "code",
   "execution_count": 24,
   "metadata": {},
   "outputs": [
    {
     "name": "stdout",
     "output_type": "stream",
     "text": [
      "Here's the encoded result: nduq\n"
     ]
    }
   ],
   "source": [
    "alphabet = ['a', 'b', 'c', 'd', 'e', 'f', 'g', 'h', 'i', 'j', 'k', 'l', 'm', 'n', 'o', 'p',\n",
    "             'q', 'r', 's', 't', 'u', 'v', 'w', 'x', 'y', 'z']\n",
    "\n",
    "direction = input(\"Type 'encode' to encrypt, type 'decode' to decrypt:\\n\").lower()\n",
    "text = input(\"Type your message:\\n\").lower()\n",
    "shift = int(input(\"Type the shift number:\\n\"))\n",
    "\n",
    "def cipher(text,shift,direction):\n",
    "    end_text = \"\"\n",
    "    if direction == \"decode\":\n",
    "        shift *= -1\n",
    "    for letter in text:\n",
    "        position =  alphabet.index(letter)\n",
    "        new_position = position + shift\n",
    "        end_text += alphabet[new_position]\n",
    "    print(f\"Here's the {direction}d result: {end_text}\")\n",
    "\n",
    "\n",
    "cipher(text, shift, direction)"
   ]
  },
  {
   "cell_type": "code",
   "execution_count": 25,
   "metadata": {},
   "outputs": [
    {
     "name": "stdout",
     "output_type": "stream",
     "text": [
      "0 Banana\n",
      "1 Apple\n",
      "2 orange\n",
      "3 peach\n",
      "4 clementine\n",
      "5 dragon fruit\n"
     ]
    }
   ],
   "source": [
    "fruit = [\"Banana\", \"Apple\", \"orange\", \"peach\", \"clementine\", \"dragon fruit\"]\n",
    "\n",
    "for i, n in enumerate(fruit):\n",
    "    print(i,n)"
   ]
  },
  {
   "cell_type": "code",
   "execution_count": 27,
   "metadata": {},
   "outputs": [
    {
     "name": "stdout",
     "output_type": "stream",
     "text": [
      "{'Harry': 'B', 'Ron': 'C', 'Hermione': 'A', 'Nevill': 'C', 'Drago': 'A', 'Fred': 'B', 'Jinny': 'B', 'George': 'B'}\n"
     ]
    }
   ],
   "source": [
    "student_score = {\n",
    "    \"Harry\": 17,\n",
    "    \"Ron\": 11,\n",
    "    \"Hermione\": 20,\n",
    "    \"Nevill\": 14,\n",
    "    \"Drago\": 19,\n",
    "    \"Fred\": 16,\n",
    "    \"Jinny\": 16,\n",
    "    \"George\": 17\n",
    "}\n",
    "\n",
    "student_grade = {}\n",
    "\n",
    "for student in student_score:\n",
    "    score = student_score[student]\n",
    "    if score >18:\n",
    "        student_grade[student] = \"A\"\n",
    "    elif score >15:\n",
    "        student_grade[student] = \"B\"\n",
    "    else:\n",
    "        student_grade[student] = \"C\"\n",
    "\n",
    "print(student_grade)"
   ]
  },
  {
   "cell_type": "code",
   "execution_count": 34,
   "metadata": {},
   "outputs": [
    {
     "name": "stdout",
     "output_type": "stream",
     "text": [
      "I've been to Thailand 3 times.\n",
      "My favourite city was Bangkok.\n"
     ]
    }
   ],
   "source": [
    "country = input()\n",
    "visits = int(input())\n",
    "list_of_cities = eval(input())\n",
    "\n",
    "travel_log = [\n",
    "  {\n",
    "    \"country\": \"France\",\n",
    "    \"visits\": 12,\n",
    "    \"cities\": [\"Paris\", \"Lille\", \"Dijon\"]\n",
    "  },\n",
    "  {\n",
    "    \"country\": \"Germany\",\n",
    "    \"visits\": 5,\n",
    "    \"cities\": [\"Berlin\", \"Hamburg\", \"Stuttgart\"]\n",
    "  },\n",
    "]\n",
    "# Do NOT change the code above 👆\n",
    "\n",
    "# TODO: Write the function that will allow new countries\n",
    "# to be added to the travel_log. \n",
    "def add_new_country(countries, visits, list_of_cities):\n",
    "    new_country = {}\n",
    "    new_country[\"country\"] = countries\n",
    "    new_country['visits'] = visits\n",
    "    new_country['cities'] = list_of_cities\n",
    "    travel_log.append(new_country)\n",
    "        \n",
    "\n",
    "# Do not change the code below 👇\n",
    "add_new_country(country, visits, list_of_cities)\n",
    "print(f\"I've been to {travel_log[2]['country']} {travel_log[2]['visits']} times.\")\n",
    "print(f\"My favourite city was {travel_log[2]['cities'][0]}.\")"
   ]
  },
  {
   "cell_type": "code",
   "execution_count": 4,
   "metadata": {},
   "outputs": [
    {
     "name": "stdout",
     "output_type": "stream",
     "text": [
      "\n",
      "                         ___________\n",
      "                         \\         /\n",
      "                          )_______(\n",
      "                          |\"\"\"\"\"\"\"|_.-._,.---------.,_.-._\n",
      "                          |       | | |               | | ''-.\n",
      "                          |       |_| |_             _| |_..-'\n",
      "                          |_______| '-' `'---------'` '-'\n",
      "                          )\"\"\"\"\"\"\"(\n",
      "                         /_________\\\n",
      "                       .-------------.\n",
      "                      /_______________\\\n",
      "\n"
     ]
    }
   ],
   "source": [
    "from logo_auction import logo\n",
    "\n",
    "print(logo)"
   ]
  },
  {
   "cell_type": "code",
   "execution_count": 6,
   "metadata": {},
   "outputs": [
    {
     "name": "stdout",
     "output_type": "stream",
     "text": [
      "The winner is 120 with a bid of $500\n"
     ]
    }
   ],
   "source": [
    "import os\n",
    "\n",
    "def clear():\n",
    "    os.system('cls' if os.name == 'nt' else 'clear')\n",
    "    \n",
    "bids = {}\n",
    "bidding_finished = False\n",
    "\n",
    "def find_highest_bidder(bidding_record):\n",
    "  highest_bid = 0\n",
    "  winner = \"\"\n",
    "  # bidding_record = {\"Angela\": 123, \"James\": 321}\n",
    "  for bidder in bidding_record:\n",
    "    bid_amount = bidding_record[bidder]\n",
    "    if bid_amount > highest_bid: \n",
    "      highest_bid = bid_amount\n",
    "      winner = bidder\n",
    "  print(f\"The winner is {winner} with a bid of ${highest_bid}\")\n",
    "\n",
    "while not bidding_finished:\n",
    "  name = input(\"What is your name?: \")\n",
    "  price = int(input(\"What is your bid?: $\"))\n",
    "  bids[name] = price\n",
    "  should_continue = input(\"Are there any other bidders? Type 'yes or 'no'.\\n\")\n",
    "  if should_continue == \"no\":\n",
    "    bidding_finished = True\n",
    "    find_highest_bidder(bids)\n",
    "  elif should_continue == \"yes\":\n",
    "    clear()"
   ]
  },
  {
   "cell_type": "code",
   "execution_count": 4,
   "metadata": {},
   "outputs": [
    {
     "name": "stdout",
     "output_type": "stream",
     "text": [
      "{'mew': 1500, 'loy ': 100}\n"
     ]
    }
   ],
   "source": [
    "bids = {}\n",
    "finished = True\n",
    "while finished:\n",
    "    name = input(\"What is your name?: \")\n",
    "    price = int(input(\"What is your bid?: $\"))\n",
    "    bids[name] = price\n",
    "    con = input(\"wanna continue?: \").lower()\n",
    "    if con == \"no\":\n",
    "        finished = False\n",
    "    if con == \"yes\":\n",
    "        clear()\n",
    "\n",
    "print(bids)"
   ]
  },
  {
   "cell_type": "code",
   "execution_count": null,
   "metadata": {},
   "outputs": [],
   "source": []
  }
 ],
 "metadata": {
  "kernelspec": {
   "display_name": "base",
   "language": "python",
   "name": "python3"
  },
  "language_info": {
   "codemirror_mode": {
    "name": "ipython",
    "version": 3
   },
   "file_extension": ".py",
   "mimetype": "text/x-python",
   "name": "python",
   "nbconvert_exporter": "python",
   "pygments_lexer": "ipython3",
   "version": "3.11.5"
  }
 },
 "nbformat": 4,
 "nbformat_minor": 2
}
