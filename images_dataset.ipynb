{
  "nbformat": 4,
  "nbformat_minor": 0,
  "metadata": {
    "colab": {
      "provenance": [],
      "authorship_tag": "ABX9TyNa+TzC+fL+Qm7s1OgFM0U0",
      "include_colab_link": true
    },
    "kernelspec": {
      "name": "python3",
      "display_name": "Python 3"
    },
    "language_info": {
      "name": "python"
    }
  },
  "cells": [
    {
      "cell_type": "markdown",
      "metadata": {
        "id": "view-in-github",
        "colab_type": "text"
      },
      "source": [
        "<a href=\"https://colab.research.google.com/github/NontapornWong/NontapornWong/blob/main/images_dataset.ipynb\" target=\"_parent\"><img src=\"https://colab.research.google.com/assets/colab-badge.svg\" alt=\"Open In Colab\"/></a>"
      ]
    },
    {
      "cell_type": "code",
      "execution_count": null,
      "metadata": {
        "id": "t9lfUAoxXXJy"
      },
      "outputs": [],
      "source": [
        "import zipfile\n",
        "import os"
      ]
    },
    {
      "cell_type": "code",
      "source": [
        "!wget --no-check-certificate \\\n",
        "    \"https://github.com/JasonObeid/Chart2TextImages/archive/refs/heads/main.zip\" \\\n",
        "    -O \"/tmp/images_charts.zip\"\n"
      ],
      "metadata": {
        "colab": {
          "base_uri": "https://localhost:8080/"
        },
        "id": "rNA1UR0MYKVQ",
        "outputId": "f8681530-79d7-4c04-efbb-4c59789add4c"
      },
      "execution_count": null,
      "outputs": [
        {
          "output_type": "stream",
          "name": "stdout",
          "text": [
            "--2022-11-30 02:24:10--  https://github.com/JasonObeid/Chart2TextImages/archive/refs/heads/main.zip\n",
            "Resolving github.com (github.com)... 140.82.114.4\n",
            "Connecting to github.com (github.com)|140.82.114.4|:443... connected.\n",
            "HTTP request sent, awaiting response... 302 Found\n",
            "Location: https://codeload.github.com/JasonObeid/Chart2TextImages/zip/refs/heads/main [following]\n",
            "--2022-11-30 02:24:11--  https://codeload.github.com/JasonObeid/Chart2TextImages/zip/refs/heads/main\n",
            "Resolving codeload.github.com (codeload.github.com)... 140.82.113.9\n",
            "Connecting to codeload.github.com (codeload.github.com)|140.82.113.9|:443... connected.\n",
            "HTTP request sent, awaiting response... 200 OK\n",
            "Length: unspecified [application/zip]\n",
            "Saving to: ‘/tmp/images_charts.zip’\n",
            "\n",
            "/tmp/images_charts.     [      <=>           ]   1.19G  17.2MB/s    in 67s     \n",
            "\n",
            "2022-11-30 02:25:18 (18.1 MB/s) - ‘/tmp/images_charts.zip’ saved [1278406452]\n",
            "\n"
          ]
        }
      ]
    },
    {
      "cell_type": "code",
      "source": [
        "zip_ref = zipfile.ZipFile('/tmp/images_charts.zip', 'r') #Opens the zip file in read mode\n",
        "zip_ref.extractall('/tmp') #Extracts the files into the /tmp folder\n",
        "zip_ref.close()"
      ],
      "metadata": {
        "id": "3YHBvGLOZgUG"
      },
      "execution_count": null,
      "outputs": []
    },
    {
      "cell_type": "code",
      "source": [
        "print('Matplot dataset' , len(os.listdir('/tmp/Chart2TextImages-main/images/matplot')))\n",
        "print('statista dataset' , len(os.listdir('/tmp/Chart2TextImages-main/images/statista')))\n",
        "print('Matplot dataset (Multi coloumn)' , len(os.listdir('/tmp/Chart2TextImages-main/multiColumn/images/matplot')))\n",
        "print('statista dataset (Multi coloumn)' , len(os.listdir('/tmp/Chart2TextImages-main/multiColumn/images/statista')))"
      ],
      "metadata": {
        "colab": {
          "base_uri": "https://localhost:8080/"
        },
        "id": "pR3df4-8a_EW",
        "outputId": "2935e3a1-e63f-4876-d87e-4b6454dbe695"
      },
      "execution_count": null,
      "outputs": [
        {
          "output_type": "stream",
          "name": "stdout",
          "text": [
            "Matplot dataset 6763\n",
            "statista dataset 6763\n",
            "Matplot dataset (Multi coloumn) 1542\n",
            "statista dataset (Multi coloumn) 1542\n"
          ]
        }
      ]
    },
    {
      "cell_type": "code",
      "source": [],
      "metadata": {
        "id": "_PN91hU-cJP-"
      },
      "execution_count": null,
      "outputs": []
    }
  ]
}